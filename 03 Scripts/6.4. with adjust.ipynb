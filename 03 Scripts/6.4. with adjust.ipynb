{
 "cells": [
  {
   "cell_type": "markdown",
   "id": "2e86abd4",
   "metadata": {},
   "source": [
    "# 6.4 Machine Learning Part 1\n",
    "### This script contains the following:\n",
    "#### 1. Importing libraries and data\n",
    "#### 2. Data cleaning\n",
    "#### 3. Data prep for regression analysis\n",
    "#### 4. Regression analysis"
   ]
  },
  {
   "cell_type": "markdown",
   "id": "c53c7c50",
   "metadata": {},
   "source": [
    "### 1. Importing libraries and data"
   ]
  },
  {
   "cell_type": "code",
   "execution_count": 224,
   "id": "807c8ad7",
   "metadata": {},
   "outputs": [],
   "source": [
    "import pandas as pd\n",
    "import numpy as np\n",
    "import seaborn as sns\n",
    "import matplotlib\n",
    "import matplotlib.pyplot as plt\n",
    "import os\n",
    "import sklearn\n",
    "from sklearn.model_selection import train_test_split \n",
    "from sklearn.linear_model import LinearRegression\n",
    "from sklearn.metrics import mean_squared_error, r2_score"
   ]
  },
  {
   "cell_type": "code",
   "execution_count": 225,
   "id": "bc35c949",
   "metadata": {},
   "outputs": [],
   "source": [
    "%matplotlib inline"
   ]
  },
  {
   "cell_type": "code",
   "execution_count": 226,
   "id": "7a9c8b51",
   "metadata": {},
   "outputs": [],
   "source": [
    "# Folder location string\n",
    "path = r'C:\\Users\\nurgul\\Linkedin\\02 Data\\Prepared Data'"
   ]
  },
  {
   "cell_type": "code",
   "execution_count": 227,
   "id": "f42b7ff1",
   "metadata": {},
   "outputs": [],
   "source": [
    "# Importing cleaned dataset\n",
    "df = pd.read_csv('jobs_posts_clean_withInd.csv', index_col=False)"
   ]
  },
  {
   "cell_type": "code",
   "execution_count": null,
   "id": "f270bb73",
   "metadata": {},
   "outputs": [],
   "source": []
  },
  {
   "cell_type": "code",
   "execution_count": null,
   "id": "858e1885",
   "metadata": {},
   "outputs": [],
   "source": [
    "# Sure no dublicate "
   ]
  },
  {
   "cell_type": "markdown",
   "id": "34d98055",
   "metadata": {},
   "source": [
    "### 2. Data cleaning"
   ]
  },
  {
   "cell_type": "code",
   "execution_count": 228,
   "id": "e4877931",
   "metadata": {},
   "outputs": [
    {
     "data": {
      "text/plain": [
       "Index(['job_id', 'company_id', 'title', 'max_salary', 'min_salary',\n",
       "       'work_type', 'location', 'applies', 'views', 'experience_level',\n",
       "       'listed_time', 'approx_salary', 'name', 'company_size', 'state',\n",
       "       'country', 'zip_code', 'skill_abr', 'salary_category',\n",
       "       'applies_category', 'industry'],\n",
       "      dtype='object')"
      ]
     },
     "execution_count": 228,
     "metadata": {},
     "output_type": "execute_result"
    }
   ],
   "source": [
    "df.columns"
   ]
  },
  {
   "cell_type": "code",
   "execution_count": null,
   "id": "16db7041",
   "metadata": {},
   "outputs": [],
   "source": [
    "df_feature = df[['applies', 'approx_salary','work_type', 'views', 'experience_level','state','skill_abr', 'industry' ]]"
   ]
  },
  {
   "cell_type": "code",
   "execution_count": null,
   "id": "71e312a7",
   "metadata": {},
   "outputs": [],
   "source": [
    "#Run one Hot Encoding for Cat column"
   ]
  },
  {
   "cell_type": "code",
   "execution_count": null,
   "id": "b895d329",
   "metadata": {},
   "outputs": [],
   "source": [
    "df_feature_cl = "
   ]
  },
  {
   "cell_type": "code",
   "execution_count": 229,
   "id": "29dc3832",
   "metadata": {},
   "outputs": [
    {
     "data": {
      "text/html": [
       "<div>\n",
       "<style scoped>\n",
       "    .dataframe tbody tr th:only-of-type {\n",
       "        vertical-align: middle;\n",
       "    }\n",
       "\n",
       "    .dataframe tbody tr th {\n",
       "        vertical-align: top;\n",
       "    }\n",
       "\n",
       "    .dataframe thead th {\n",
       "        text-align: right;\n",
       "    }\n",
       "</style>\n",
       "<table border=\"1\" class=\"dataframe\">\n",
       "  <thead>\n",
       "    <tr style=\"text-align: right;\">\n",
       "      <th></th>\n",
       "      <th>job_id</th>\n",
       "      <th>company_id</th>\n",
       "      <th>title</th>\n",
       "      <th>max_salary</th>\n",
       "      <th>min_salary</th>\n",
       "      <th>work_type</th>\n",
       "      <th>location</th>\n",
       "      <th>applies</th>\n",
       "      <th>views</th>\n",
       "      <th>experience_level</th>\n",
       "      <th>...</th>\n",
       "      <th>approx_salary</th>\n",
       "      <th>name</th>\n",
       "      <th>company_size</th>\n",
       "      <th>state</th>\n",
       "      <th>country</th>\n",
       "      <th>zip_code</th>\n",
       "      <th>skill_abr</th>\n",
       "      <th>salary_category</th>\n",
       "      <th>applies_category</th>\n",
       "      <th>industry</th>\n",
       "    </tr>\n",
       "  </thead>\n",
       "  <tbody>\n",
       "    <tr>\n",
       "      <th>0</th>\n",
       "      <td>3757935001</td>\n",
       "      <td>73013724</td>\n",
       "      <td>Sales Manager</td>\n",
       "      <td>350000.0</td>\n",
       "      <td>125000.0</td>\n",
       "      <td>Full-time</td>\n",
       "      <td>Coeur d'Alene, ID</td>\n",
       "      <td>18.329151</td>\n",
       "      <td>66.426309</td>\n",
       "      <td>Mid-Senior level</td>\n",
       "      <td>...</td>\n",
       "      <td>237500.0</td>\n",
       "      <td>J. Galt</td>\n",
       "      <td>3.000000</td>\n",
       "      <td>Indiana</td>\n",
       "      <td>US</td>\n",
       "      <td>46268</td>\n",
       "      <td>SALE</td>\n",
       "      <td>high</td>\n",
       "      <td>medium</td>\n",
       "      <td>Financial Services</td>\n",
       "    </tr>\n",
       "    <tr>\n",
       "      <th>1</th>\n",
       "      <td>3757935001</td>\n",
       "      <td>73013724</td>\n",
       "      <td>Sales Manager</td>\n",
       "      <td>350000.0</td>\n",
       "      <td>125000.0</td>\n",
       "      <td>Full-time</td>\n",
       "      <td>Coeur d'Alene, ID</td>\n",
       "      <td>17.496124</td>\n",
       "      <td>61.180585</td>\n",
       "      <td>Mid-Senior level</td>\n",
       "      <td>...</td>\n",
       "      <td>237500.0</td>\n",
       "      <td>J. Galt</td>\n",
       "      <td>3.000000</td>\n",
       "      <td>Indiana</td>\n",
       "      <td>US</td>\n",
       "      <td>46268</td>\n",
       "      <td>BD</td>\n",
       "      <td>high</td>\n",
       "      <td>medium</td>\n",
       "      <td>Financial Services</td>\n",
       "    </tr>\n",
       "    <tr>\n",
       "      <th>2</th>\n",
       "      <td>3757934347</td>\n",
       "      <td>10515052</td>\n",
       "      <td>Body Technician</td>\n",
       "      <td>30.0</td>\n",
       "      <td>20.0</td>\n",
       "      <td>Full-time</td>\n",
       "      <td>Waukesha, WI</td>\n",
       "      <td>26.281996</td>\n",
       "      <td>80.649722</td>\n",
       "      <td>Entry level</td>\n",
       "      <td>...</td>\n",
       "      <td>25.0</td>\n",
       "      <td>Boyd Group Services Inc.</td>\n",
       "      <td>6.000000</td>\n",
       "      <td>Manitoba</td>\n",
       "      <td>CA</td>\n",
       "      <td>R3H 1A6</td>\n",
       "      <td>ENG</td>\n",
       "      <td>low</td>\n",
       "      <td>high</td>\n",
       "      <td>Motor Vehicle Manufacturing</td>\n",
       "    </tr>\n",
       "    <tr>\n",
       "      <th>3</th>\n",
       "      <td>3757934347</td>\n",
       "      <td>10515052</td>\n",
       "      <td>Body Technician</td>\n",
       "      <td>30.0</td>\n",
       "      <td>20.0</td>\n",
       "      <td>Full-time</td>\n",
       "      <td>Waukesha, WI</td>\n",
       "      <td>31.256076</td>\n",
       "      <td>96.929148</td>\n",
       "      <td>Entry level</td>\n",
       "      <td>...</td>\n",
       "      <td>25.0</td>\n",
       "      <td>Boyd Group Services Inc.</td>\n",
       "      <td>6.000000</td>\n",
       "      <td>Manitoba</td>\n",
       "      <td>CA</td>\n",
       "      <td>R3H 1A6</td>\n",
       "      <td>IT</td>\n",
       "      <td>low</td>\n",
       "      <td>high</td>\n",
       "      <td>Motor Vehicle Manufacturing</td>\n",
       "    </tr>\n",
       "    <tr>\n",
       "      <th>4</th>\n",
       "      <td>3757934319</td>\n",
       "      <td>18391435</td>\n",
       "      <td>Controls Engineer</td>\n",
       "      <td>150000.0</td>\n",
       "      <td>121000.0</td>\n",
       "      <td>Full-time</td>\n",
       "      <td>Orlando, FL</td>\n",
       "      <td>1.000000</td>\n",
       "      <td>5.000000</td>\n",
       "      <td>Mid-Senior level</td>\n",
       "      <td>...</td>\n",
       "      <td>135500.0</td>\n",
       "      <td>head-huntress.com</td>\n",
       "      <td>4.537178</td>\n",
       "      <td>CA</td>\n",
       "      <td>US</td>\n",
       "      <td>92025</td>\n",
       "      <td>ENG</td>\n",
       "      <td>high</td>\n",
       "      <td>low</td>\n",
       "      <td>Staffing and Recruiting</td>\n",
       "    </tr>\n",
       "    <tr>\n",
       "      <th>5</th>\n",
       "      <td>3757934319</td>\n",
       "      <td>18391435</td>\n",
       "      <td>Controls Engineer</td>\n",
       "      <td>150000.0</td>\n",
       "      <td>121000.0</td>\n",
       "      <td>Full-time</td>\n",
       "      <td>Orlando, FL</td>\n",
       "      <td>1.000000</td>\n",
       "      <td>5.000000</td>\n",
       "      <td>Mid-Senior level</td>\n",
       "      <td>...</td>\n",
       "      <td>135500.0</td>\n",
       "      <td>head-huntress.com</td>\n",
       "      <td>4.757780</td>\n",
       "      <td>CA</td>\n",
       "      <td>US</td>\n",
       "      <td>92025</td>\n",
       "      <td>IT</td>\n",
       "      <td>high</td>\n",
       "      <td>low</td>\n",
       "      <td>Staffing and Recruiting</td>\n",
       "    </tr>\n",
       "    <tr>\n",
       "      <th>6</th>\n",
       "      <td>3757934318</td>\n",
       "      <td>6577380</td>\n",
       "      <td>CDL Class B Driver</td>\n",
       "      <td>27.0</td>\n",
       "      <td>25.0</td>\n",
       "      <td>Full-time</td>\n",
       "      <td>Oakland, CA</td>\n",
       "      <td>15.568389</td>\n",
       "      <td>56.874644</td>\n",
       "      <td>Mid-Senior level</td>\n",
       "      <td>...</td>\n",
       "      <td>26.0</td>\n",
       "      <td>Conexwest</td>\n",
       "      <td>2.000000</td>\n",
       "      <td>California</td>\n",
       "      <td>US</td>\n",
       "      <td>94607</td>\n",
       "      <td>MGMT</td>\n",
       "      <td>low</td>\n",
       "      <td>medium</td>\n",
       "      <td>Retail Office Equipment</td>\n",
       "    </tr>\n",
       "    <tr>\n",
       "      <th>7</th>\n",
       "      <td>3757934318</td>\n",
       "      <td>6577380</td>\n",
       "      <td>CDL Class B Driver</td>\n",
       "      <td>27.0</td>\n",
       "      <td>25.0</td>\n",
       "      <td>Full-time</td>\n",
       "      <td>Oakland, CA</td>\n",
       "      <td>12.111901</td>\n",
       "      <td>46.531042</td>\n",
       "      <td>Mid-Senior level</td>\n",
       "      <td>...</td>\n",
       "      <td>26.0</td>\n",
       "      <td>Conexwest</td>\n",
       "      <td>2.000000</td>\n",
       "      <td>California</td>\n",
       "      <td>US</td>\n",
       "      <td>94607</td>\n",
       "      <td>MNFC</td>\n",
       "      <td>low</td>\n",
       "      <td>medium</td>\n",
       "      <td>Retail Office Equipment</td>\n",
       "    </tr>\n",
       "    <tr>\n",
       "      <th>8</th>\n",
       "      <td>3757934281</td>\n",
       "      <td>2238</td>\n",
       "      <td>Senior Manager, Indirect Procurement</td>\n",
       "      <td>143000.0</td>\n",
       "      <td>96000.0</td>\n",
       "      <td>Full-time</td>\n",
       "      <td>Broomfield, CO</td>\n",
       "      <td>35.846667</td>\n",
       "      <td>148.485876</td>\n",
       "      <td>Mid-Senior level</td>\n",
       "      <td>...</td>\n",
       "      <td>119500.0</td>\n",
       "      <td>Danone</td>\n",
       "      <td>7.000000</td>\n",
       "      <td>0</td>\n",
       "      <td>FR</td>\n",
       "      <td>75000</td>\n",
       "      <td>STRA</td>\n",
       "      <td>medium</td>\n",
       "      <td>high</td>\n",
       "      <td>Food and Beverage Manufacturing</td>\n",
       "    </tr>\n",
       "    <tr>\n",
       "      <th>9</th>\n",
       "      <td>3757934281</td>\n",
       "      <td>2238</td>\n",
       "      <td>Senior Manager, Indirect Procurement</td>\n",
       "      <td>143000.0</td>\n",
       "      <td>96000.0</td>\n",
       "      <td>Full-time</td>\n",
       "      <td>Broomfield, CO</td>\n",
       "      <td>24.042735</td>\n",
       "      <td>102.208589</td>\n",
       "      <td>Mid-Senior level</td>\n",
       "      <td>...</td>\n",
       "      <td>119500.0</td>\n",
       "      <td>Danone</td>\n",
       "      <td>7.000000</td>\n",
       "      <td>0</td>\n",
       "      <td>FR</td>\n",
       "      <td>75000</td>\n",
       "      <td>GENB</td>\n",
       "      <td>medium</td>\n",
       "      <td>high</td>\n",
       "      <td>Food and Beverage Manufacturing</td>\n",
       "    </tr>\n",
       "    <tr>\n",
       "      <th>10</th>\n",
       "      <td>3757934281</td>\n",
       "      <td>2238</td>\n",
       "      <td>Senior Manager, Indirect Procurement</td>\n",
       "      <td>143000.0</td>\n",
       "      <td>96000.0</td>\n",
       "      <td>Full-time</td>\n",
       "      <td>Broomfield, CO</td>\n",
       "      <td>15.568389</td>\n",
       "      <td>56.874644</td>\n",
       "      <td>Mid-Senior level</td>\n",
       "      <td>...</td>\n",
       "      <td>119500.0</td>\n",
       "      <td>Danone</td>\n",
       "      <td>7.000000</td>\n",
       "      <td>0</td>\n",
       "      <td>FR</td>\n",
       "      <td>75000</td>\n",
       "      <td>MGMT</td>\n",
       "      <td>medium</td>\n",
       "      <td>medium</td>\n",
       "      <td>Food and Beverage Manufacturing</td>\n",
       "    </tr>\n",
       "    <tr>\n",
       "      <th>11</th>\n",
       "      <td>3757934267</td>\n",
       "      <td>28352</td>\n",
       "      <td>CDL A Delivery Driver</td>\n",
       "      <td>105000.0</td>\n",
       "      <td>85000.0</td>\n",
       "      <td>Full-time</td>\n",
       "      <td>Swedesboro, NJ</td>\n",
       "      <td>15.568389</td>\n",
       "      <td>56.874644</td>\n",
       "      <td>Entry level</td>\n",
       "      <td>...</td>\n",
       "      <td>95000.0</td>\n",
       "      <td>Core-Mark International</td>\n",
       "      <td>6.000000</td>\n",
       "      <td>Texas</td>\n",
       "      <td>US</td>\n",
       "      <td>76262</td>\n",
       "      <td>MGMT</td>\n",
       "      <td>medium</td>\n",
       "      <td>medium</td>\n",
       "      <td>Wholesale</td>\n",
       "    </tr>\n",
       "    <tr>\n",
       "      <th>12</th>\n",
       "      <td>3757934267</td>\n",
       "      <td>28352</td>\n",
       "      <td>CDL A Delivery Driver</td>\n",
       "      <td>105000.0</td>\n",
       "      <td>85000.0</td>\n",
       "      <td>Full-time</td>\n",
       "      <td>Swedesboro, NJ</td>\n",
       "      <td>12.111901</td>\n",
       "      <td>46.531042</td>\n",
       "      <td>Entry level</td>\n",
       "      <td>...</td>\n",
       "      <td>95000.0</td>\n",
       "      <td>Core-Mark International</td>\n",
       "      <td>6.000000</td>\n",
       "      <td>Texas</td>\n",
       "      <td>US</td>\n",
       "      <td>76262</td>\n",
       "      <td>MNFC</td>\n",
       "      <td>medium</td>\n",
       "      <td>medium</td>\n",
       "      <td>Wholesale</td>\n",
       "    </tr>\n",
       "    <tr>\n",
       "      <th>13</th>\n",
       "      <td>3757934264</td>\n",
       "      <td>73013724</td>\n",
       "      <td>Sales Manager</td>\n",
       "      <td>350000.0</td>\n",
       "      <td>125000.0</td>\n",
       "      <td>Full-time</td>\n",
       "      <td>Richmond, VA</td>\n",
       "      <td>18.329151</td>\n",
       "      <td>66.426309</td>\n",
       "      <td>Mid-Senior level</td>\n",
       "      <td>...</td>\n",
       "      <td>237500.0</td>\n",
       "      <td>J. Galt</td>\n",
       "      <td>3.000000</td>\n",
       "      <td>Indiana</td>\n",
       "      <td>US</td>\n",
       "      <td>46268</td>\n",
       "      <td>SALE</td>\n",
       "      <td>high</td>\n",
       "      <td>medium</td>\n",
       "      <td>Financial Services</td>\n",
       "    </tr>\n",
       "    <tr>\n",
       "      <th>14</th>\n",
       "      <td>3757934264</td>\n",
       "      <td>73013724</td>\n",
       "      <td>Sales Manager</td>\n",
       "      <td>350000.0</td>\n",
       "      <td>125000.0</td>\n",
       "      <td>Full-time</td>\n",
       "      <td>Richmond, VA</td>\n",
       "      <td>17.496124</td>\n",
       "      <td>61.180585</td>\n",
       "      <td>Mid-Senior level</td>\n",
       "      <td>...</td>\n",
       "      <td>237500.0</td>\n",
       "      <td>J. Galt</td>\n",
       "      <td>3.000000</td>\n",
       "      <td>Indiana</td>\n",
       "      <td>US</td>\n",
       "      <td>46268</td>\n",
       "      <td>BD</td>\n",
       "      <td>high</td>\n",
       "      <td>medium</td>\n",
       "      <td>Financial Services</td>\n",
       "    </tr>\n",
       "    <tr>\n",
       "      <th>15</th>\n",
       "      <td>3757934178</td>\n",
       "      <td>73013724</td>\n",
       "      <td>Sales Manager</td>\n",
       "      <td>350000.0</td>\n",
       "      <td>125000.0</td>\n",
       "      <td>Full-time</td>\n",
       "      <td>Rapid City, SD</td>\n",
       "      <td>18.329151</td>\n",
       "      <td>66.426309</td>\n",
       "      <td>Mid-Senior level</td>\n",
       "      <td>...</td>\n",
       "      <td>237500.0</td>\n",
       "      <td>J. Galt</td>\n",
       "      <td>3.000000</td>\n",
       "      <td>Indiana</td>\n",
       "      <td>US</td>\n",
       "      <td>46268</td>\n",
       "      <td>SALE</td>\n",
       "      <td>high</td>\n",
       "      <td>medium</td>\n",
       "      <td>Financial Services</td>\n",
       "    </tr>\n",
       "    <tr>\n",
       "      <th>16</th>\n",
       "      <td>3757934178</td>\n",
       "      <td>73013724</td>\n",
       "      <td>Sales Manager</td>\n",
       "      <td>350000.0</td>\n",
       "      <td>125000.0</td>\n",
       "      <td>Full-time</td>\n",
       "      <td>Rapid City, SD</td>\n",
       "      <td>17.496124</td>\n",
       "      <td>61.180585</td>\n",
       "      <td>Mid-Senior level</td>\n",
       "      <td>...</td>\n",
       "      <td>237500.0</td>\n",
       "      <td>J. Galt</td>\n",
       "      <td>3.000000</td>\n",
       "      <td>Indiana</td>\n",
       "      <td>US</td>\n",
       "      <td>46268</td>\n",
       "      <td>BD</td>\n",
       "      <td>high</td>\n",
       "      <td>medium</td>\n",
       "      <td>Financial Services</td>\n",
       "    </tr>\n",
       "    <tr>\n",
       "      <th>17</th>\n",
       "      <td>3757934003</td>\n",
       "      <td>73013724</td>\n",
       "      <td>Sales Manager</td>\n",
       "      <td>350000.0</td>\n",
       "      <td>125000.0</td>\n",
       "      <td>Full-time</td>\n",
       "      <td>Yuma, AZ</td>\n",
       "      <td>18.329151</td>\n",
       "      <td>66.426309</td>\n",
       "      <td>Mid-Senior level</td>\n",
       "      <td>...</td>\n",
       "      <td>237500.0</td>\n",
       "      <td>J. Galt</td>\n",
       "      <td>3.000000</td>\n",
       "      <td>Indiana</td>\n",
       "      <td>US</td>\n",
       "      <td>46268</td>\n",
       "      <td>SALE</td>\n",
       "      <td>high</td>\n",
       "      <td>medium</td>\n",
       "      <td>Financial Services</td>\n",
       "    </tr>\n",
       "    <tr>\n",
       "      <th>18</th>\n",
       "      <td>3757934003</td>\n",
       "      <td>73013724</td>\n",
       "      <td>Sales Manager</td>\n",
       "      <td>350000.0</td>\n",
       "      <td>125000.0</td>\n",
       "      <td>Full-time</td>\n",
       "      <td>Yuma, AZ</td>\n",
       "      <td>17.496124</td>\n",
       "      <td>61.180585</td>\n",
       "      <td>Mid-Senior level</td>\n",
       "      <td>...</td>\n",
       "      <td>237500.0</td>\n",
       "      <td>J. Galt</td>\n",
       "      <td>3.000000</td>\n",
       "      <td>Indiana</td>\n",
       "      <td>US</td>\n",
       "      <td>46268</td>\n",
       "      <td>BD</td>\n",
       "      <td>high</td>\n",
       "      <td>medium</td>\n",
       "      <td>Financial Services</td>\n",
       "    </tr>\n",
       "    <tr>\n",
       "      <th>19</th>\n",
       "      <td>3757933435</td>\n",
       "      <td>73013724</td>\n",
       "      <td>Sales Manager</td>\n",
       "      <td>350000.0</td>\n",
       "      <td>125000.0</td>\n",
       "      <td>Full-time</td>\n",
       "      <td>Sheboygan, WI</td>\n",
       "      <td>18.329151</td>\n",
       "      <td>66.426309</td>\n",
       "      <td>Mid-Senior level</td>\n",
       "      <td>...</td>\n",
       "      <td>237500.0</td>\n",
       "      <td>J. Galt</td>\n",
       "      <td>3.000000</td>\n",
       "      <td>Indiana</td>\n",
       "      <td>US</td>\n",
       "      <td>46268</td>\n",
       "      <td>SALE</td>\n",
       "      <td>high</td>\n",
       "      <td>medium</td>\n",
       "      <td>Financial Services</td>\n",
       "    </tr>\n",
       "  </tbody>\n",
       "</table>\n",
       "<p>20 rows × 21 columns</p>\n",
       "</div>"
      ],
      "text/plain": [
       "        job_id  company_id                                 title  max_salary  \\\n",
       "0   3757935001    73013724                         Sales Manager    350000.0   \n",
       "1   3757935001    73013724                         Sales Manager    350000.0   \n",
       "2   3757934347    10515052                       Body Technician        30.0   \n",
       "3   3757934347    10515052                       Body Technician        30.0   \n",
       "4   3757934319    18391435                     Controls Engineer    150000.0   \n",
       "5   3757934319    18391435                     Controls Engineer    150000.0   \n",
       "6   3757934318     6577380                    CDL Class B Driver        27.0   \n",
       "7   3757934318     6577380                    CDL Class B Driver        27.0   \n",
       "8   3757934281        2238  Senior Manager, Indirect Procurement    143000.0   \n",
       "9   3757934281        2238  Senior Manager, Indirect Procurement    143000.0   \n",
       "10  3757934281        2238  Senior Manager, Indirect Procurement    143000.0   \n",
       "11  3757934267       28352                 CDL A Delivery Driver    105000.0   \n",
       "12  3757934267       28352                 CDL A Delivery Driver    105000.0   \n",
       "13  3757934264    73013724                         Sales Manager    350000.0   \n",
       "14  3757934264    73013724                         Sales Manager    350000.0   \n",
       "15  3757934178    73013724                         Sales Manager    350000.0   \n",
       "16  3757934178    73013724                         Sales Manager    350000.0   \n",
       "17  3757934003    73013724                         Sales Manager    350000.0   \n",
       "18  3757934003    73013724                         Sales Manager    350000.0   \n",
       "19  3757933435    73013724                         Sales Manager    350000.0   \n",
       "\n",
       "    min_salary  work_type           location    applies       views  \\\n",
       "0     125000.0  Full-time  Coeur d'Alene, ID  18.329151   66.426309   \n",
       "1     125000.0  Full-time  Coeur d'Alene, ID  17.496124   61.180585   \n",
       "2         20.0  Full-time       Waukesha, WI  26.281996   80.649722   \n",
       "3         20.0  Full-time       Waukesha, WI  31.256076   96.929148   \n",
       "4     121000.0  Full-time        Orlando, FL   1.000000    5.000000   \n",
       "5     121000.0  Full-time        Orlando, FL   1.000000    5.000000   \n",
       "6         25.0  Full-time        Oakland, CA  15.568389   56.874644   \n",
       "7         25.0  Full-time        Oakland, CA  12.111901   46.531042   \n",
       "8      96000.0  Full-time     Broomfield, CO  35.846667  148.485876   \n",
       "9      96000.0  Full-time     Broomfield, CO  24.042735  102.208589   \n",
       "10     96000.0  Full-time     Broomfield, CO  15.568389   56.874644   \n",
       "11     85000.0  Full-time     Swedesboro, NJ  15.568389   56.874644   \n",
       "12     85000.0  Full-time     Swedesboro, NJ  12.111901   46.531042   \n",
       "13    125000.0  Full-time       Richmond, VA  18.329151   66.426309   \n",
       "14    125000.0  Full-time       Richmond, VA  17.496124   61.180585   \n",
       "15    125000.0  Full-time     Rapid City, SD  18.329151   66.426309   \n",
       "16    125000.0  Full-time     Rapid City, SD  17.496124   61.180585   \n",
       "17    125000.0  Full-time           Yuma, AZ  18.329151   66.426309   \n",
       "18    125000.0  Full-time           Yuma, AZ  17.496124   61.180585   \n",
       "19    125000.0  Full-time      Sheboygan, WI  18.329151   66.426309   \n",
       "\n",
       "    experience_level  ... approx_salary                      name  \\\n",
       "0   Mid-Senior level  ...      237500.0                   J. Galt   \n",
       "1   Mid-Senior level  ...      237500.0                   J. Galt   \n",
       "2        Entry level  ...          25.0  Boyd Group Services Inc.   \n",
       "3        Entry level  ...          25.0  Boyd Group Services Inc.   \n",
       "4   Mid-Senior level  ...      135500.0         head-huntress.com   \n",
       "5   Mid-Senior level  ...      135500.0         head-huntress.com   \n",
       "6   Mid-Senior level  ...          26.0                 Conexwest   \n",
       "7   Mid-Senior level  ...          26.0                 Conexwest   \n",
       "8   Mid-Senior level  ...      119500.0                    Danone   \n",
       "9   Mid-Senior level  ...      119500.0                    Danone   \n",
       "10  Mid-Senior level  ...      119500.0                    Danone   \n",
       "11       Entry level  ...       95000.0   Core-Mark International   \n",
       "12       Entry level  ...       95000.0   Core-Mark International   \n",
       "13  Mid-Senior level  ...      237500.0                   J. Galt   \n",
       "14  Mid-Senior level  ...      237500.0                   J. Galt   \n",
       "15  Mid-Senior level  ...      237500.0                   J. Galt   \n",
       "16  Mid-Senior level  ...      237500.0                   J. Galt   \n",
       "17  Mid-Senior level  ...      237500.0                   J. Galt   \n",
       "18  Mid-Senior level  ...      237500.0                   J. Galt   \n",
       "19  Mid-Senior level  ...      237500.0                   J. Galt   \n",
       "\n",
       "   company_size       state country zip_code skill_abr salary_category  \\\n",
       "0      3.000000     Indiana      US    46268      SALE            high   \n",
       "1      3.000000     Indiana      US    46268        BD            high   \n",
       "2      6.000000    Manitoba      CA  R3H 1A6       ENG             low   \n",
       "3      6.000000    Manitoba      CA  R3H 1A6        IT             low   \n",
       "4      4.537178          CA      US    92025       ENG            high   \n",
       "5      4.757780          CA      US    92025        IT            high   \n",
       "6      2.000000  California      US    94607      MGMT             low   \n",
       "7      2.000000  California      US    94607      MNFC             low   \n",
       "8      7.000000           0      FR    75000      STRA          medium   \n",
       "9      7.000000           0      FR    75000      GENB          medium   \n",
       "10     7.000000           0      FR    75000      MGMT          medium   \n",
       "11     6.000000       Texas      US    76262      MGMT          medium   \n",
       "12     6.000000       Texas      US    76262      MNFC          medium   \n",
       "13     3.000000     Indiana      US    46268      SALE            high   \n",
       "14     3.000000     Indiana      US    46268        BD            high   \n",
       "15     3.000000     Indiana      US    46268      SALE            high   \n",
       "16     3.000000     Indiana      US    46268        BD            high   \n",
       "17     3.000000     Indiana      US    46268      SALE            high   \n",
       "18     3.000000     Indiana      US    46268        BD            high   \n",
       "19     3.000000     Indiana      US    46268      SALE            high   \n",
       "\n",
       "   applies_category                         industry  \n",
       "0            medium               Financial Services  \n",
       "1            medium               Financial Services  \n",
       "2              high      Motor Vehicle Manufacturing  \n",
       "3              high      Motor Vehicle Manufacturing  \n",
       "4               low          Staffing and Recruiting  \n",
       "5               low          Staffing and Recruiting  \n",
       "6            medium          Retail Office Equipment  \n",
       "7            medium          Retail Office Equipment  \n",
       "8              high  Food and Beverage Manufacturing  \n",
       "9              high  Food and Beverage Manufacturing  \n",
       "10           medium  Food and Beverage Manufacturing  \n",
       "11           medium                        Wholesale  \n",
       "12           medium                        Wholesale  \n",
       "13           medium               Financial Services  \n",
       "14           medium               Financial Services  \n",
       "15           medium               Financial Services  \n",
       "16           medium               Financial Services  \n",
       "17           medium               Financial Services  \n",
       "18           medium               Financial Services  \n",
       "19           medium               Financial Services  \n",
       "\n",
       "[20 rows x 21 columns]"
      ]
     },
     "execution_count": 229,
     "metadata": {},
     "output_type": "execute_result"
    }
   ],
   "source": [
    ".head(20)"
   ]
  },
  {
   "cell_type": "code",
   "execution_count": 230,
   "id": "de116c06",
   "metadata": {},
   "outputs": [
    {
     "data": {
      "text/plain": [
       "(19435, 21)"
      ]
     },
     "execution_count": 230,
     "metadata": {},
     "output_type": "execute_result"
    }
   ],
   "source": [
    "df.shape"
   ]
  },
  {
   "cell_type": "code",
   "execution_count": 231,
   "id": "89e13adc",
   "metadata": {},
   "outputs": [
    {
     "data": {
      "text/plain": [
       "job_id              0\n",
       "company_id          0\n",
       "title               0\n",
       "max_salary          0\n",
       "min_salary          0\n",
       "work_type           0\n",
       "location            0\n",
       "applies             0\n",
       "views               0\n",
       "experience_level    0\n",
       "listed_time         0\n",
       "approx_salary       0\n",
       "name                0\n",
       "company_size        0\n",
       "state               0\n",
       "country             0\n",
       "zip_code            0\n",
       "skill_abr           0\n",
       "salary_category     0\n",
       "applies_category    0\n",
       "industry            0\n",
       "dtype: int64"
      ]
     },
     "execution_count": 231,
     "metadata": {},
     "output_type": "execute_result"
    }
   ],
   "source": [
    "# Check for missing values\n",
    "df.isnull().sum()\n",
    "# No missing values to handle"
   ]
  },
  {
   "cell_type": "code",
   "execution_count": null,
   "id": "0ca7ff6e",
   "metadata": {},
   "outputs": [],
   "source": []
  },
  {
   "cell_type": "code",
   "execution_count": null,
   "id": "23f83a11",
   "metadata": {},
   "outputs": [],
   "source": [
    "#ImportCluster function"
   ]
  },
  {
   "cell_type": "code",
   "execution_count": null,
   "id": "f3c927fd",
   "metadata": {},
   "outputs": [],
   "source": [
    "# Run clister"
   ]
  },
  {
   "cell_type": "code",
   "execution_count": null,
   "id": "454a3b41",
   "metadata": {},
   "outputs": [],
   "source": [
    "# Show the resulsts"
   ]
  },
  {
   "cell_type": "code",
   "execution_count": null,
   "id": "238306d4",
   "metadata": {},
   "outputs": [],
   "source": [
    "#Visulse the output"
   ]
  },
  {
   "cell_type": "code",
   "execution_count": null,
   "id": "fd77453c",
   "metadata": {},
   "outputs": [],
   "source": []
  },
  {
   "cell_type": "code",
   "execution_count": null,
   "id": "43afaf5b",
   "metadata": {},
   "outputs": [],
   "source": []
  },
  {
   "cell_type": "code",
   "execution_count": 1,
   "id": "c51c9b20",
   "metadata": {},
   "outputs": [
    {
     "ename": "NameError",
     "evalue": "name 'df' is not defined",
     "output_type": "error",
     "traceback": [
      "\u001b[0;31m---------------------------------------------------------------------------\u001b[0m",
      "\u001b[0;31mNameError\u001b[0m                                 Traceback (most recent call last)",
      "Cell \u001b[0;32mIn[1], line 1\u001b[0m\n\u001b[0;32m----> 1\u001b[0m dups \u001b[38;5;241m=\u001b[39m df\u001b[38;5;241m.\u001b[39mduplicated()\n\u001b[1;32m      2\u001b[0m dups\u001b[38;5;241m.\u001b[39mshape\n",
      "\u001b[0;31mNameError\u001b[0m: name 'df' is not defined"
     ]
    }
   ],
   "source": [
    "dups = df.duplicated()\n",
    "dups.shape # No dups"
   ]
  },
  {
   "cell_type": "code",
   "execution_count": 233,
   "id": "c3408cad",
   "metadata": {},
   "outputs": [
    {
     "name": "stderr",
     "output_type": "stream",
     "text": [
      "/var/folders/b1/dcgm49cs1dx0p3lkf95fklvr0000gp/T/ipykernel_29460/1394364783.py:2: UserWarning: \n",
      "\n",
      "`distplot` is a deprecated function and will be removed in seaborn v0.14.0.\n",
      "\n",
      "Please adapt your code to use either `displot` (a figure-level function with\n",
      "similar flexibility) or `histplot` (an axes-level function for histograms).\n",
      "\n",
      "For a guide to updating your code to use the new functions, please see\n",
      "https://gist.github.com/mwaskom/de44147ed2974457ad6372750bbe5751\n",
      "\n",
      "  sns.distplot(df['views'], bins=30) # Shows extreme values\n",
      "/Users/nurgul/anaconda3/lib/python3.11/site-packages/seaborn/_oldcore.py:1119: FutureWarning: use_inf_as_na option is deprecated and will be removed in a future version. Convert inf values to NaN before operating instead.\n",
      "  with pd.option_context('mode.use_inf_as_na', True):\n"
     ]
    },
    {
     "data": {
      "text/plain": [
       "<Axes: xlabel='views', ylabel='Density'>"
      ]
     },
     "execution_count": 233,
     "metadata": {},
     "output_type": "execute_result"
    },
    {
     "data": {
      "image/png": "[encoded data removed]",
      "text/plain": [
       "<Figure size 640x480 with 1 Axes>"
      ]
     },
     "metadata": {},
     "output_type": "display_data"
    }
   ],
   "source": [
    "# Checking extremes \n",
    "sns.distplot(df['views'], bins=30) # Shows extreme values"
   ]
  },
  {
   "cell_type": "code",
   "execution_count": 234,
   "id": "5fec6aa3",
   "metadata": {},
   "outputs": [
    {
     "data": {
      "text/plain": [
       "54.6121187062602"
      ]
     },
     "execution_count": 234,
     "metadata": {},
     "output_type": "execute_result"
    }
   ],
   "source": [
    "df['views'].mean() # Check the mean"
   ]
  },
  {
   "cell_type": "code",
   "execution_count": 235,
   "id": "ffca1da3",
   "metadata": {},
   "outputs": [
    {
     "data": {
      "text/plain": [
       "27.0"
      ]
     },
     "execution_count": 235,
     "metadata": {},
     "output_type": "execute_result"
    }
   ],
   "source": [
    "df['views'].median() # Check the median"
   ]
  },
  {
   "cell_type": "code",
   "execution_count": 236,
   "id": "a052f972",
   "metadata": {},
   "outputs": [
    {
     "data": {
      "text/plain": [
       "1599.0"
      ]
     },
     "execution_count": 236,
     "metadata": {},
     "output_type": "execute_result"
    }
   ],
   "source": [
    "df['views'].max() # Check the max"
   ]
  },
  {
   "cell_type": "markdown",
   "id": "14a9b6e4",
   "metadata": {},
   "source": [
    "### 3. Data prep for regression analysis"
   ]
  },
  {
   "cell_type": "code",
   "execution_count": 237,
   "id": "c5ae172d",
   "metadata": {},
   "outputs": [
    {
     "data": {
      "image/png": "[encoded data removed]",
      "text/plain": [
       "<Figure size 640x480 with 1 Axes>"
      ]
     },
     "metadata": {},
     "output_type": "display_data"
    }
   ],
   "source": [
    "# Create a scatterplot using matplotlib for another look at how the chosen variables plot against each other.\n",
    "\n",
    "df.plot(x='views', y='applies', style='o') \n",
    "plt.title('Views vs Applies')  \n",
    "plt.xlabel('Views')  \n",
    "plt.ylabel('Applies')\n",
    "plt.show()\n"
   ]
  },
  {
   "cell_type": "code",
   "execution_count": 238,
   "id": "6463ff65",
   "metadata": {},
   "outputs": [],
   "source": [
    "# Reshape the variables into NumPy arrays and put them into separate objects.\n",
    "\n",
    "X = df['views'].values.reshape(-1,1)\n",
    "y = df['applies'].values.reshape(-1,1)"
   ]
  },
  {
   "cell_type": "code",
   "execution_count": 239,
   "id": "ea6338d1",
   "metadata": {},
   "outputs": [
    {
     "data": {
      "text/plain": [
       "array([[66.42630854],\n",
       "       [61.18058455],\n",
       "       [80.649722  ],\n",
       "       ...,\n",
       "       [46.53104213],\n",
       "       [46.53104213],\n",
       "       [96.92914798]])"
      ]
     },
     "execution_count": 239,
     "metadata": {},
     "output_type": "execute_result"
    }
   ],
   "source": [
    "X"
   ]
  },
  {
   "cell_type": "code",
   "execution_count": 240,
   "id": "32c6e0b2",
   "metadata": {},
   "outputs": [
    {
     "data": {
      "text/plain": [
       "array([[18.32915058],\n",
       "       [17.49612403],\n",
       "       [26.28199566],\n",
       "       ...,\n",
       "       [12.11190053],\n",
       "       [12.11190053],\n",
       "       [31.25607587]])"
      ]
     },
     "execution_count": 240,
     "metadata": {},
     "output_type": "execute_result"
    }
   ],
   "source": [
    "y"
   ]
  },
  {
   "cell_type": "code",
   "execution_count": 241,
   "id": "ce2ad960",
   "metadata": {},
   "outputs": [],
   "source": [
    "# Split data into a training set and a test set.\n",
    "\n",
    "X_train, X_test, y_train, y_test = train_test_split(X, y, test_size=0.3, random_state=0)"
   ]
  },
  {
   "cell_type": "markdown",
   "id": "53a6e14e",
   "metadata": {},
   "source": [
    "### 4. Regression analysis"
   ]
  },
  {
   "cell_type": "code",
   "execution_count": 242,
   "id": "d2c40918",
   "metadata": {},
   "outputs": [],
   "source": [
    "# Create a regression object.\n",
    "\n",
    "regression = LinearRegression() "
   ]
  },
  {
   "cell_type": "code",
   "execution_count": 243,
   "id": "eef53911",
   "metadata": {},
   "outputs": [
    {
     "data": {
      "text/html": [
       "<style>#sk-container-id-9 {color: black;}#sk-container-id-9 pre{padding: 0;}#sk-container-id-9 div.sk-toggleable {background-color: white;}#sk-container-id-9 label.sk-toggleable__label {cursor: pointer;display: block;width: 100%;margin-bottom: 0;padding: 0.3em;box-sizing: border-box;text-align: center;}#sk-container-id-9 label.sk-toggleable__label-arrow:before {content: \"▸\";float: left;margin-right: 0.25em;color: #696969;}#sk-container-id-9 label.sk-toggleable__label-arrow:hover:before {color: black;}#sk-container-id-9 div.sk-estimator:hover label.sk-toggleable__label-arrow:before {color: black;}#sk-container-id-9 div.sk-toggleable__content {max-height: 0;max-width: 0;overflow: hidden;text-align: left;background-color: #f0f8ff;}#sk-container-id-9 div.sk-toggleable__content pre {margin: 0.2em;color: black;border-radius: 0.25em;background-color: #f0f8ff;}#sk-container-id-9 input.sk-toggleable__control:checked~div.sk-toggleable__content {max-height: 200px;max-width: 100%;overflow: auto;}#sk-container-id-9 input.sk-toggleable__control:checked~label.sk-toggleable__label-arrow:before {content: \"▾\";}#sk-container-id-9 div.sk-estimator input.sk-toggleable__control:checked~label.sk-toggleable__label {background-color: #d4ebff;}#sk-container-id-9 div.sk-label input.sk-toggleable__control:checked~label.sk-toggleable__label {background-color: #d4ebff;}#sk-container-id-9 input.sk-hidden--visually {border: 0;clip: rect(1px 1px 1px 1px);clip: rect(1px, 1px, 1px, 1px);height: 1px;margin: -1px;overflow: hidden;padding: 0;position: absolute;width: 1px;}#sk-container-id-9 div.sk-estimator {font-family: monospace;background-color: #f0f8ff;border: 1px dotted black;border-radius: 0.25em;box-sizing: border-box;margin-bottom: 0.5em;}#sk-container-id-9 div.sk-estimator:hover {background-color: #d4ebff;}#sk-container-id-9 div.sk-parallel-item::after {content: \"\";width: 100%;border-bottom: 1px solid gray;flex-grow: 1;}#sk-container-id-9 div.sk-label:hover label.sk-toggleable__label {background-color: #d4ebff;}#sk-container-id-9 div.sk-serial::before {content: \"\";position: absolute;border-left: 1px solid gray;box-sizing: border-box;top: 0;bottom: 0;left: 50%;z-index: 0;}#sk-container-id-9 div.sk-serial {display: flex;flex-direction: column;align-items: center;background-color: white;padding-right: 0.2em;padding-left: 0.2em;position: relative;}#sk-container-id-9 div.sk-item {position: relative;z-index: 1;}#sk-container-id-9 div.sk-parallel {display: flex;align-items: stretch;justify-content: center;background-color: white;position: relative;}#sk-container-id-9 div.sk-item::before, #sk-container-id-9 div.sk-parallel-item::before {content: \"\";position: absolute;border-left: 1px solid gray;box-sizing: border-box;top: 0;bottom: 0;left: 50%;z-index: -1;}#sk-container-id-9 div.sk-parallel-item {display: flex;flex-direction: column;z-index: 1;position: relative;background-color: white;}#sk-container-id-9 div.sk-parallel-item:first-child::after {align-self: flex-end;width: 50%;}#sk-container-id-9 div.sk-parallel-item:last-child::after {align-self: flex-start;width: 50%;}#sk-container-id-9 div.sk-parallel-item:only-child::after {width: 0;}#sk-container-id-9 div.sk-dashed-wrapped {border: 1px dashed gray;margin: 0 0.4em 0.5em 0.4em;box-sizing: border-box;padding-bottom: 0.4em;background-color: white;}#sk-container-id-9 div.sk-label label {font-family: monospace;font-weight: bold;display: inline-block;line-height: 1.2em;}#sk-container-id-9 div.sk-label-container {text-align: center;}#sk-container-id-9 div.sk-container {/* jupyter's `normalize.less` sets `[hidden] { display: none; }` but bootstrap.min.css set `[hidden] { display: none !important; }` so we also need the `!important` here to be able to override the default hidden behavior on the sphinx rendered scikit-learn.org. See: https://github.com/scikit-learn/scikit-learn/issues/21755 */display: inline-block !important;position: relative;}#sk-container-id-9 div.sk-text-repr-fallback {display: none;}</style><div id=\"sk-container-id-9\" class=\"sk-top-container\"><div class=\"sk-text-repr-fallback\"><pre>LinearRegression()</pre><b>In a Jupyter environment, please rerun this cell to show the HTML representation or trust the notebook. <br />On GitHub, the HTML representation is unable to render, please try loading this page with nbviewer.org.</b></div><div class=\"sk-container\" hidden><div class=\"sk-item\"><div class=\"sk-estimator sk-toggleable\"><input class=\"sk-toggleable__control sk-hidden--visually\" id=\"sk-estimator-id-9\" type=\"checkbox\" checked><label for=\"sk-estimator-id-9\" class=\"sk-toggleable__label sk-toggleable__label-arrow\">LinearRegression</label><div class=\"sk-toggleable__content\"><pre>LinearRegression()</pre></div></div></div></div></div>"
      ],
      "text/plain": [
       "LinearRegression()"
      ]
     },
     "execution_count": 243,
     "metadata": {},
     "output_type": "execute_result"
    }
   ],
   "source": [
    "# Fit the regression object onto the training set.\n",
    "\n",
    "regression.fit(X_train, y_train)"
   ]
  },
  {
   "cell_type": "code",
   "execution_count": 244,
   "id": "904983eb",
   "metadata": {},
   "outputs": [],
   "source": [
    "# Predict the values of y using X.\n",
    "\n",
    "y_predicted = regression.predict(X_test)"
   ]
  },
  {
   "cell_type": "code",
   "execution_count": 245,
   "id": "7300e96e",
   "metadata": {
    "scrolled": true
   },
   "outputs": [
    {
     "data": {
      "image/png": "[encoded data removed]",
      "text/plain": [
       "<Figure size 640x480 with 1 Axes>"
      ]
     },
     "metadata": {},
     "output_type": "display_data"
    }
   ],
   "source": [
    "# Create a plot that shows the regression line from the model on the test set.\n",
    "\n",
    "plot_test = plt\n",
    "plot_test.scatter(X_test, y_test, color='gray', s = 15)\n",
    "plot_test.plot(X_test, y_predicted, color='red', linewidth =3)\n",
    "plot_test.title('Views vs Applies (Test set)')\n",
    "plot_test.xlabel('views')\n",
    "plot_test.ylabel('applies')\n",
    "plot_test.show()"
   ]
  },
  {
   "cell_type": "markdown",
   "id": "11f66ed5",
   "metadata": {},
   "source": [
    "## Hypothesis: As the number of job post views increases, the corresponding application rate also increases."
   ]
  },
  {
   "cell_type": "code",
   "execution_count": 246,
   "id": "b868461a",
   "metadata": {},
   "outputs": [],
   "source": [
    "# Create objects that contain the model summary statistics.\n",
    "\n",
    "rmse = mean_squared_error(y_test, y_predicted) # This is the mean squared error\n",
    "r2 = r2_score(y_test, y_predicted) # This is the R2 score. "
   ]
  },
  {
   "cell_type": "code",
   "execution_count": 247,
   "id": "d4b8cbd2",
   "metadata": {},
   "outputs": [
    {
     "name": "stdout",
     "output_type": "stream",
     "text": [
      "Slope: [[0.23300844]]\n",
      "Mean squared error:  190.05086149252608\n",
      "R2 score:  0.635452913064146\n"
     ]
    }
   ],
   "source": [
    "# Print the model summary statistics. This is where you evaluate the performance of the model.\n",
    "\n",
    "print('Slope:' ,regression.coef_)\n",
    "print('Mean squared error: ', rmse)\n",
    "print('R2 score: ', r2)"
   ]
  },
  {
   "cell_type": "markdown",
   "id": "12c7a90c",
   "metadata": {},
   "source": [
    "The positive slope of approximately 0.233 suggests that there is a positive relationship between the number of views of job posts and the number of applications. As the number of views increases, there is an average increase of 0.233 in the number of job applications.\n",
    "\n",
    "Mean Squared Error (MSE):\n",
    "The mean squared error of 190.05 indicates the average squared difference between the actual and predicted number of job applications. \n",
    "\n",
    "R2 Score:\n",
    "The R2 score of 0.635 means that approximately 63.5% of the variability in the number of job applications can be explained by the variability in the number of views. This suggests that the linear regression model captures a substantial portion of the relationship between views and applications.\n",
    "\n",
    "I may assume that this preidictive model is a good fit "
   ]
  },
  {
   "cell_type": "code",
   "execution_count": 248,
   "id": "73a88dc1",
   "metadata": {},
   "outputs": [
    {
     "data": {
      "text/plain": [
       "array([[22.9998344 ],\n",
       "       [18.71784852],\n",
       "       [ 9.15304299],\n",
       "       ...,\n",
       "       [15.91028779],\n",
       "       [ 9.61905987],\n",
       "       [24.76460857]])"
      ]
     },
     "execution_count": 248,
     "metadata": {},
     "output_type": "execute_result"
    }
   ],
   "source": [
    "y_predicted"
   ]
  },
  {
   "cell_type": "code",
   "execution_count": 249,
   "id": "6768892f",
   "metadata": {},
   "outputs": [
    {
     "data": {
      "text/html": [
       "<div>\n",
       "<style scoped>\n",
       "    .dataframe tbody tr th:only-of-type {\n",
       "        vertical-align: middle;\n",
       "    }\n",
       "\n",
       "    .dataframe tbody tr th {\n",
       "        vertical-align: top;\n",
       "    }\n",
       "\n",
       "    .dataframe thead th {\n",
       "        text-align: right;\n",
       "    }\n",
       "</style>\n",
       "<table border=\"1\" class=\"dataframe\">\n",
       "  <thead>\n",
       "    <tr style=\"text-align: right;\">\n",
       "      <th></th>\n",
       "      <th>Actual</th>\n",
       "      <th>Predicted</th>\n",
       "    </tr>\n",
       "  </thead>\n",
       "  <tbody>\n",
       "    <tr>\n",
       "      <th>0</th>\n",
       "      <td>24.096085</td>\n",
       "      <td>22.999834</td>\n",
       "    </tr>\n",
       "    <tr>\n",
       "      <th>1</th>\n",
       "      <td>16.543417</td>\n",
       "      <td>18.717849</td>\n",
       "    </tr>\n",
       "    <tr>\n",
       "      <th>2</th>\n",
       "      <td>1.000000</td>\n",
       "      <td>9.153043</td>\n",
       "    </tr>\n",
       "    <tr>\n",
       "      <th>3</th>\n",
       "      <td>33.000000</td>\n",
       "      <td>29.657786</td>\n",
       "    </tr>\n",
       "    <tr>\n",
       "      <th>4</th>\n",
       "      <td>18.329151</td>\n",
       "      <td>19.970765</td>\n",
       "    </tr>\n",
       "    <tr>\n",
       "      <th>5</th>\n",
       "      <td>2.000000</td>\n",
       "      <td>12.648170</td>\n",
       "    </tr>\n",
       "    <tr>\n",
       "      <th>6</th>\n",
       "      <td>4.000000</td>\n",
       "      <td>12.415161</td>\n",
       "    </tr>\n",
       "    <tr>\n",
       "      <th>7</th>\n",
       "      <td>22.000000</td>\n",
       "      <td>30.123803</td>\n",
       "    </tr>\n",
       "    <tr>\n",
       "      <th>8</th>\n",
       "      <td>7.000000</td>\n",
       "      <td>13.813212</td>\n",
       "    </tr>\n",
       "    <tr>\n",
       "      <th>9</th>\n",
       "      <td>4.000000</td>\n",
       "      <td>7.988001</td>\n",
       "    </tr>\n",
       "    <tr>\n",
       "      <th>10</th>\n",
       "      <td>15.568389</td>\n",
       "      <td>17.745146</td>\n",
       "    </tr>\n",
       "    <tr>\n",
       "      <th>11</th>\n",
       "      <td>19.000000</td>\n",
       "      <td>45.968377</td>\n",
       "    </tr>\n",
       "    <tr>\n",
       "      <th>12</th>\n",
       "      <td>18.000000</td>\n",
       "      <td>28.026727</td>\n",
       "    </tr>\n",
       "    <tr>\n",
       "      <th>13</th>\n",
       "      <td>26.281996</td>\n",
       "      <td>23.284940</td>\n",
       "    </tr>\n",
       "    <tr>\n",
       "      <th>14</th>\n",
       "      <td>18.000000</td>\n",
       "      <td>14.512237</td>\n",
       "    </tr>\n",
       "    <tr>\n",
       "      <th>15</th>\n",
       "      <td>12.111901</td>\n",
       "      <td>4.725883</td>\n",
       "    </tr>\n",
       "    <tr>\n",
       "      <th>16</th>\n",
       "      <td>15.568389</td>\n",
       "      <td>6.356942</td>\n",
       "    </tr>\n",
       "    <tr>\n",
       "      <th>17</th>\n",
       "      <td>2.000000</td>\n",
       "      <td>7.754992</td>\n",
       "    </tr>\n",
       "    <tr>\n",
       "      <th>18</th>\n",
       "      <td>110.000000</td>\n",
       "      <td>72.997356</td>\n",
       "    </tr>\n",
       "    <tr>\n",
       "      <th>19</th>\n",
       "      <td>15.000000</td>\n",
       "      <td>24.065583</td>\n",
       "    </tr>\n",
       "    <tr>\n",
       "      <th>20</th>\n",
       "      <td>3.000000</td>\n",
       "      <td>10.085077</td>\n",
       "    </tr>\n",
       "    <tr>\n",
       "      <th>21</th>\n",
       "      <td>10.228571</td>\n",
       "      <td>4.725883</td>\n",
       "    </tr>\n",
       "    <tr>\n",
       "      <th>22</th>\n",
       "      <td>14.700422</td>\n",
       "      <td>16.631975</td>\n",
       "    </tr>\n",
       "    <tr>\n",
       "      <th>23</th>\n",
       "      <td>2.000000</td>\n",
       "      <td>9.619060</td>\n",
       "    </tr>\n",
       "    <tr>\n",
       "      <th>24</th>\n",
       "      <td>7.000000</td>\n",
       "      <td>14.745246</td>\n",
       "    </tr>\n",
       "    <tr>\n",
       "      <th>25</th>\n",
       "      <td>30.000000</td>\n",
       "      <td>36.415031</td>\n",
       "    </tr>\n",
       "    <tr>\n",
       "      <th>26</th>\n",
       "      <td>73.000000</td>\n",
       "      <td>98.162268</td>\n",
       "    </tr>\n",
       "    <tr>\n",
       "      <th>27</th>\n",
       "      <td>21.411168</td>\n",
       "      <td>11.949144</td>\n",
       "    </tr>\n",
       "    <tr>\n",
       "      <th>28</th>\n",
       "      <td>14.700422</td>\n",
       "      <td>16.631975</td>\n",
       "    </tr>\n",
       "    <tr>\n",
       "      <th>29</th>\n",
       "      <td>33.000000</td>\n",
       "      <td>35.249988</td>\n",
       "    </tr>\n",
       "  </tbody>\n",
       "</table>\n",
       "</div>"
      ],
      "text/plain": [
       "        Actual  Predicted\n",
       "0    24.096085  22.999834\n",
       "1    16.543417  18.717849\n",
       "2     1.000000   9.153043\n",
       "3    33.000000  29.657786\n",
       "4    18.329151  19.970765\n",
       "5     2.000000  12.648170\n",
       "6     4.000000  12.415161\n",
       "7    22.000000  30.123803\n",
       "8     7.000000  13.813212\n",
       "9     4.000000   7.988001\n",
       "10   15.568389  17.745146\n",
       "11   19.000000  45.968377\n",
       "12   18.000000  28.026727\n",
       "13   26.281996  23.284940\n",
       "14   18.000000  14.512237\n",
       "15   12.111901   4.725883\n",
       "16   15.568389   6.356942\n",
       "17    2.000000   7.754992\n",
       "18  110.000000  72.997356\n",
       "19   15.000000  24.065583\n",
       "20    3.000000  10.085077\n",
       "21   10.228571   4.725883\n",
       "22   14.700422  16.631975\n",
       "23    2.000000   9.619060\n",
       "24    7.000000  14.745246\n",
       "25   30.000000  36.415031\n",
       "26   73.000000  98.162268\n",
       "27   21.411168  11.949144\n",
       "28   14.700422  16.631975\n",
       "29   33.000000  35.249988"
      ]
     },
     "execution_count": 249,
     "metadata": {},
     "output_type": "execute_result"
    }
   ],
   "source": [
    "# Create a dataframe comparing the actual and predicted values of y.\n",
    "\n",
    "data = pd.DataFrame({'Actual': y_test.flatten(), 'Predicted': y_predicted.flatten()})\n",
    "data.head(30)"
   ]
  },
  {
   "cell_type": "markdown",
   "id": "66fa62e6",
   "metadata": {},
   "source": [
    "predicted values are pretty far off of actual values in many cases. Still, I think this model is quite good to predict applies number by views "
   ]
  },
  {
   "cell_type": "code",
   "execution_count": 250,
   "id": "a00e7dd3",
   "metadata": {},
   "outputs": [],
   "source": [
    "# Predict.\n",
    "\n",
    "y_predicted_train = regression.predict(X_train) # This is predicting X_train!"
   ]
  },
  {
   "cell_type": "code",
   "execution_count": 251,
   "id": "1121fd8c",
   "metadata": {},
   "outputs": [],
   "source": [
    "rmse = mean_squared_error(y_train, y_predicted_train)\n",
    "r2 = r2_score(y_train, y_predicted_train)"
   ]
  },
  {
   "cell_type": "code",
   "execution_count": 252,
   "id": "5824afd1",
   "metadata": {},
   "outputs": [
    {
     "name": "stdout",
     "output_type": "stream",
     "text": [
      "Slope: [[0.23300844]]\n",
      "Mean squared error:  249.77632091160888\n",
      "R2 score:  0.6076532087122837\n"
     ]
    }
   ],
   "source": [
    "print('Slope:' ,regression.coef_)\n",
    "print('Mean squared error: ', rmse)\n",
    "print('R2 score: ', r2)"
   ]
  },
  {
   "cell_type": "code",
   "execution_count": 253,
   "id": "d25a10c1",
   "metadata": {},
   "outputs": [
    {
     "data": {
      "image/png": "[encoded data removed]",
      "text/plain": [
       "<Figure size 640x480 with 1 Axes>"
      ]
     },
     "metadata": {},
     "output_type": "display_data"
    }
   ],
   "source": [
    "# Visualizing the training set results.\n",
    "\n",
    "plot_test = plt\n",
    "plot_test.scatter(X_train, y_train, color='green', s = 15)\n",
    "plot_test.plot(X_train, y_predicted_train, color='red', linewidth =3)\n",
    "plot_test.title('Views vs Applies (Train set)')\n",
    "plot_test.xlabel('views')\n",
    "plot_test.ylabel('applies')\n",
    "plot_test.show()"
   ]
  },
  {
   "cell_type": "code",
   "execution_count": 254,
   "id": "9a31fd45",
   "metadata": {
    "scrolled": true
   },
   "outputs": [
    {
     "data": {
      "text/html": [
       "<div>\n",
       "<style scoped>\n",
       "    .dataframe tbody tr th:only-of-type {\n",
       "        vertical-align: middle;\n",
       "    }\n",
       "\n",
       "    .dataframe tbody tr th {\n",
       "        vertical-align: top;\n",
       "    }\n",
       "\n",
       "    .dataframe thead th {\n",
       "        text-align: right;\n",
       "    }\n",
       "</style>\n",
       "<table border=\"1\" class=\"dataframe\">\n",
       "  <thead>\n",
       "    <tr style=\"text-align: right;\">\n",
       "      <th></th>\n",
       "      <th>job_id</th>\n",
       "      <th>company_id</th>\n",
       "      <th>max_salary</th>\n",
       "      <th>min_salary</th>\n",
       "      <th>applies</th>\n",
       "      <th>views</th>\n",
       "      <th>approx_salary</th>\n",
       "      <th>company_size</th>\n",
       "    </tr>\n",
       "  </thead>\n",
       "  <tbody>\n",
       "    <tr>\n",
       "      <th>count</th>\n",
       "      <td>1.943500e+04</td>\n",
       "      <td>1.943500e+04</td>\n",
       "      <td>19435.000000</td>\n",
       "      <td>19435.000000</td>\n",
       "      <td>19435.000000</td>\n",
       "      <td>19435.000000</td>\n",
       "      <td>19435.000000</td>\n",
       "      <td>19435.000000</td>\n",
       "    </tr>\n",
       "    <tr>\n",
       "      <th>mean</th>\n",
       "      <td>3.725445e+09</td>\n",
       "      <td>8.580080e+06</td>\n",
       "      <td>87699.577578</td>\n",
       "      <td>62182.249910</td>\n",
       "      <td>17.173936</td>\n",
       "      <td>54.612119</td>\n",
       "      <td>74940.913744</td>\n",
       "      <td>4.638477</td>\n",
       "    </tr>\n",
       "    <tr>\n",
       "      <th>std</th>\n",
       "      <td>4.650946e+07</td>\n",
       "      <td>1.979098e+07</td>\n",
       "      <td>87360.405542</td>\n",
       "      <td>58764.123285</td>\n",
       "      <td>24.537991</td>\n",
       "      <td>83.521340</td>\n",
       "      <td>71586.683464</td>\n",
       "      <td>1.933902</td>\n",
       "    </tr>\n",
       "    <tr>\n",
       "      <th>min</th>\n",
       "      <td>2.148435e+09</td>\n",
       "      <td>1.016000e+03</td>\n",
       "      <td>10.500000</td>\n",
       "      <td>7.250000</td>\n",
       "      <td>1.000000</td>\n",
       "      <td>1.000000</td>\n",
       "      <td>10.250000</td>\n",
       "      <td>1.000000</td>\n",
       "    </tr>\n",
       "    <tr>\n",
       "      <th>25%</th>\n",
       "      <td>3.697345e+09</td>\n",
       "      <td>1.461100e+04</td>\n",
       "      <td>49.200000</td>\n",
       "      <td>40.000000</td>\n",
       "      <td>4.000000</td>\n",
       "      <td>7.000000</td>\n",
       "      <td>44.000000</td>\n",
       "      <td>3.000000</td>\n",
       "    </tr>\n",
       "    <tr>\n",
       "      <th>50%</th>\n",
       "      <td>3.748841e+09</td>\n",
       "      <td>2.058560e+05</td>\n",
       "      <td>84000.000000</td>\n",
       "      <td>63200.000000</td>\n",
       "      <td>12.111901</td>\n",
       "      <td>27.000000</td>\n",
       "      <td>75000.000000</td>\n",
       "      <td>5.000000</td>\n",
       "    </tr>\n",
       "    <tr>\n",
       "      <th>75%</th>\n",
       "      <td>3.756168e+09</td>\n",
       "      <td>4.854165e+06</td>\n",
       "      <td>140000.000000</td>\n",
       "      <td>100000.000000</td>\n",
       "      <td>20.000000</td>\n",
       "      <td>66.426309</td>\n",
       "      <td>120000.000000</td>\n",
       "      <td>7.000000</td>\n",
       "    </tr>\n",
       "    <tr>\n",
       "      <th>max</th>\n",
       "      <td>3.757935e+09</td>\n",
       "      <td>1.007464e+08</td>\n",
       "      <td>1000000.000000</td>\n",
       "      <td>750000.000000</td>\n",
       "      <td>850.000000</td>\n",
       "      <td>1599.000000</td>\n",
       "      <td>875000.000000</td>\n",
       "      <td>7.000000</td>\n",
       "    </tr>\n",
       "  </tbody>\n",
       "</table>\n",
       "</div>"
      ],
      "text/plain": [
       "             job_id    company_id      max_salary     min_salary  \\\n",
       "count  1.943500e+04  1.943500e+04    19435.000000   19435.000000   \n",
       "mean   3.725445e+09  8.580080e+06    87699.577578   62182.249910   \n",
       "std    4.650946e+07  1.979098e+07    87360.405542   58764.123285   \n",
       "min    2.148435e+09  1.016000e+03       10.500000       7.250000   \n",
       "25%    3.697345e+09  1.461100e+04       49.200000      40.000000   \n",
       "50%    3.748841e+09  2.058560e+05    84000.000000   63200.000000   \n",
       "75%    3.756168e+09  4.854165e+06   140000.000000  100000.000000   \n",
       "max    3.757935e+09  1.007464e+08  1000000.000000  750000.000000   \n",
       "\n",
       "            applies         views  approx_salary  company_size  \n",
       "count  19435.000000  19435.000000   19435.000000  19435.000000  \n",
       "mean      17.173936     54.612119   74940.913744      4.638477  \n",
       "std       24.537991     83.521340   71586.683464      1.933902  \n",
       "min        1.000000      1.000000      10.250000      1.000000  \n",
       "25%        4.000000      7.000000      44.000000      3.000000  \n",
       "50%       12.111901     27.000000   75000.000000      5.000000  \n",
       "75%       20.000000     66.426309  120000.000000      7.000000  \n",
       "max      850.000000   1599.000000  875000.000000      7.000000  "
      ]
     },
     "execution_count": 254,
     "metadata": {},
     "output_type": "execute_result"
    }
   ],
   "source": [
    "df.describe()"
   ]
  },
  {
   "cell_type": "markdown",
   "id": "5e31014e",
   "metadata": {},
   "source": [
    "### performance improvement after removing outliers "
   ]
  },
  {
   "cell_type": "code",
   "execution_count": 273,
   "id": "c74ab54f",
   "metadata": {},
   "outputs": [],
   "source": [
    "df_test = df[df['views'] <=800] "
   ]
  },
  {
   "cell_type": "code",
   "execution_count": 274,
   "id": "b7f9161c",
   "metadata": {
    "scrolled": false
   },
   "outputs": [
    {
     "data": {
      "image/png": "[encoded data removed]",
      "text/plain": [
       "<Figure size 640x480 with 1 Axes>"
      ]
     },
     "metadata": {},
     "output_type": "display_data"
    }
   ],
   "source": [
    "df_test.plot(x='views', y='applies', style='o') \n",
    "plt.title('Views vs Applies')  \n",
    "plt.xlabel('Views')  \n",
    "plt.ylabel('Applies')\n",
    "plt.show()"
   ]
  },
  {
   "cell_type": "code",
   "execution_count": 275,
   "id": "08b22725",
   "metadata": {},
   "outputs": [],
   "source": [
    "# Reshape again.\n",
    "\n",
    "X_2 = df_test['views'].values.reshape(-1,1)\n",
    "y_2 = df_test['applies'].values.reshape(-1,1)"
   ]
  },
  {
   "cell_type": "code",
   "execution_count": 276,
   "id": "50accaa6",
   "metadata": {},
   "outputs": [],
   "source": [
    "X_train_2, X_test_2, y_train_2, y_test_2 = train_test_split(X_2, y_2, test_size=0.3, random_state=0)"
   ]
  },
  {
   "cell_type": "code",
   "execution_count": 277,
   "id": "129ceea4",
   "metadata": {},
   "outputs": [
    {
     "data": {
      "text/html": [
       "<style>#sk-container-id-12 {color: black;}#sk-container-id-12 pre{padding: 0;}#sk-container-id-12 div.sk-toggleable {background-color: white;}#sk-container-id-12 label.sk-toggleable__label {cursor: pointer;display: block;width: 100%;margin-bottom: 0;padding: 0.3em;box-sizing: border-box;text-align: center;}#sk-container-id-12 label.sk-toggleable__label-arrow:before {content: \"▸\";float: left;margin-right: 0.25em;color: #696969;}#sk-container-id-12 label.sk-toggleable__label-arrow:hover:before {color: black;}#sk-container-id-12 div.sk-estimator:hover label.sk-toggleable__label-arrow:before {color: black;}#sk-container-id-12 div.sk-toggleable__content {max-height: 0;max-width: 0;overflow: hidden;text-align: left;background-color: #f0f8ff;}#sk-container-id-12 div.sk-toggleable__content pre {margin: 0.2em;color: black;border-radius: 0.25em;background-color: #f0f8ff;}#sk-container-id-12 input.sk-toggleable__control:checked~div.sk-toggleable__content {max-height: 200px;max-width: 100%;overflow: auto;}#sk-container-id-12 input.sk-toggleable__control:checked~label.sk-toggleable__label-arrow:before {content: \"▾\";}#sk-container-id-12 div.sk-estimator input.sk-toggleable__control:checked~label.sk-toggleable__label {background-color: #d4ebff;}#sk-container-id-12 div.sk-label input.sk-toggleable__control:checked~label.sk-toggleable__label {background-color: #d4ebff;}#sk-container-id-12 input.sk-hidden--visually {border: 0;clip: rect(1px 1px 1px 1px);clip: rect(1px, 1px, 1px, 1px);height: 1px;margin: -1px;overflow: hidden;padding: 0;position: absolute;width: 1px;}#sk-container-id-12 div.sk-estimator {font-family: monospace;background-color: #f0f8ff;border: 1px dotted black;border-radius: 0.25em;box-sizing: border-box;margin-bottom: 0.5em;}#sk-container-id-12 div.sk-estimator:hover {background-color: #d4ebff;}#sk-container-id-12 div.sk-parallel-item::after {content: \"\";width: 100%;border-bottom: 1px solid gray;flex-grow: 1;}#sk-container-id-12 div.sk-label:hover label.sk-toggleable__label {background-color: #d4ebff;}#sk-container-id-12 div.sk-serial::before {content: \"\";position: absolute;border-left: 1px solid gray;box-sizing: border-box;top: 0;bottom: 0;left: 50%;z-index: 0;}#sk-container-id-12 div.sk-serial {display: flex;flex-direction: column;align-items: center;background-color: white;padding-right: 0.2em;padding-left: 0.2em;position: relative;}#sk-container-id-12 div.sk-item {position: relative;z-index: 1;}#sk-container-id-12 div.sk-parallel {display: flex;align-items: stretch;justify-content: center;background-color: white;position: relative;}#sk-container-id-12 div.sk-item::before, #sk-container-id-12 div.sk-parallel-item::before {content: \"\";position: absolute;border-left: 1px solid gray;box-sizing: border-box;top: 0;bottom: 0;left: 50%;z-index: -1;}#sk-container-id-12 div.sk-parallel-item {display: flex;flex-direction: column;z-index: 1;position: relative;background-color: white;}#sk-container-id-12 div.sk-parallel-item:first-child::after {align-self: flex-end;width: 50%;}#sk-container-id-12 div.sk-parallel-item:last-child::after {align-self: flex-start;width: 50%;}#sk-container-id-12 div.sk-parallel-item:only-child::after {width: 0;}#sk-container-id-12 div.sk-dashed-wrapped {border: 1px dashed gray;margin: 0 0.4em 0.5em 0.4em;box-sizing: border-box;padding-bottom: 0.4em;background-color: white;}#sk-container-id-12 div.sk-label label {font-family: monospace;font-weight: bold;display: inline-block;line-height: 1.2em;}#sk-container-id-12 div.sk-label-container {text-align: center;}#sk-container-id-12 div.sk-container {/* jupyter's `normalize.less` sets `[hidden] { display: none; }` but bootstrap.min.css set `[hidden] { display: none !important; }` so we also need the `!important` here to be able to override the default hidden behavior on the sphinx rendered scikit-learn.org. See: https://github.com/scikit-learn/scikit-learn/issues/21755 */display: inline-block !important;position: relative;}#sk-container-id-12 div.sk-text-repr-fallback {display: none;}</style><div id=\"sk-container-id-12\" class=\"sk-top-container\"><div class=\"sk-text-repr-fallback\"><pre>LinearRegression()</pre><b>In a Jupyter environment, please rerun this cell to show the HTML representation or trust the notebook. <br />On GitHub, the HTML representation is unable to render, please try loading this page with nbviewer.org.</b></div><div class=\"sk-container\" hidden><div class=\"sk-item\"><div class=\"sk-estimator sk-toggleable\"><input class=\"sk-toggleable__control sk-hidden--visually\" id=\"sk-estimator-id-12\" type=\"checkbox\" checked><label for=\"sk-estimator-id-12\" class=\"sk-toggleable__label sk-toggleable__label-arrow\">LinearRegression</label><div class=\"sk-toggleable__content\"><pre>LinearRegression()</pre></div></div></div></div></div>"
      ],
      "text/plain": [
       "LinearRegression()"
      ]
     },
     "execution_count": 277,
     "metadata": {},
     "output_type": "execute_result"
    }
   ],
   "source": [
    "# Run and fit the regression.\n",
    "\n",
    "regression = LinearRegression()  \n",
    "regression.fit(X_train_2, y_train_2)"
   ]
  },
  {
   "cell_type": "code",
   "execution_count": 278,
   "id": "09e945d6",
   "metadata": {},
   "outputs": [],
   "source": [
    "# Predict.\n",
    "\n",
    "y_predicted_2 = regression.predict(X_test_2)"
   ]
  },
  {
   "cell_type": "code",
   "execution_count": 279,
   "id": "29c68799",
   "metadata": {},
   "outputs": [],
   "source": [
    "rmse = mean_squared_error(y_test_2, y_predicted_2)\n",
    "r2 = r2_score(y_test_2, y_predicted_2)"
   ]
  },
  {
   "cell_type": "code",
   "execution_count": 280,
   "id": "a11e43bb",
   "metadata": {},
   "outputs": [
    {
     "name": "stdout",
     "output_type": "stream",
     "text": [
      "Slope: [[0.22008188]]\n",
      "Mean squared error:  203.93859918012745\n",
      "R2 score:  0.585813616900964\n"
     ]
    }
   ],
   "source": [
    "print('Slope:' ,regression.coef_)\n",
    "print('Mean squared error: ', rmse)\n",
    "print('R2 score: ', r2)"
   ]
  },
  {
   "cell_type": "markdown",
   "id": "a4e9437d",
   "metadata": {},
   "source": [
    "By excluding outliers, we observe that the Mean Squared Error (MSE) increased, suggesting that the predictive model fits the data better. However, it's worth mentioning that the R-squared (R2) score slightly decreased."
   ]
  },
  {
   "cell_type": "code",
   "execution_count": 263,
   "id": "01eb50f2",
   "metadata": {},
   "outputs": [
    {
     "data": {
      "image/png": "[encoded data removed]",
      "text/plain": [
       "<Figure size 640x480 with 1 Axes>"
      ]
     },
     "metadata": {},
     "output_type": "display_data"
    }
   ],
   "source": [
    "# Visualizing the test set results.\n",
    "plot_test = plt\n",
    "plot_test.scatter(X_test_2, y_test_2, color='gray', s = 15)\n",
    "plot_test.plot(X_test_2, y_predicted_2, color='red', linewidth =3)\n",
    "plot_test.title('Views vs Applies (Test set)')\n",
    "plot_test.xlabel('views')\n",
    "plot_test.ylabel('applies')\n",
    "plot_test.show()"
   ]
  },
  {
   "cell_type": "code",
   "execution_count": 264,
   "id": "3ace59c4",
   "metadata": {},
   "outputs": [
    {
     "data": {
      "text/html": [
       "<div>\n",
       "<style scoped>\n",
       "    .dataframe tbody tr th:only-of-type {\n",
       "        vertical-align: middle;\n",
       "    }\n",
       "\n",
       "    .dataframe tbody tr th {\n",
       "        vertical-align: top;\n",
       "    }\n",
       "\n",
       "    .dataframe thead th {\n",
       "        text-align: right;\n",
       "    }\n",
       "</style>\n",
       "<table border=\"1\" class=\"dataframe\">\n",
       "  <thead>\n",
       "    <tr style=\"text-align: right;\">\n",
       "      <th></th>\n",
       "      <th>Actual</th>\n",
       "      <th>Predicted</th>\n",
       "    </tr>\n",
       "  </thead>\n",
       "  <tbody>\n",
       "    <tr>\n",
       "      <th>0</th>\n",
       "      <td>10.000000</td>\n",
       "      <td>20.792873</td>\n",
       "    </tr>\n",
       "    <tr>\n",
       "      <th>1</th>\n",
       "      <td>18.329151</td>\n",
       "      <td>19.770423</td>\n",
       "    </tr>\n",
       "    <tr>\n",
       "      <th>2</th>\n",
       "      <td>2.000000</td>\n",
       "      <td>6.485665</td>\n",
       "    </tr>\n",
       "    <tr>\n",
       "      <th>3</th>\n",
       "      <td>47.000000</td>\n",
       "      <td>97.247015</td>\n",
       "    </tr>\n",
       "    <tr>\n",
       "      <th>4</th>\n",
       "      <td>15.568389</td>\n",
       "      <td>5.144364</td>\n",
       "    </tr>\n",
       "    <tr>\n",
       "      <th>5</th>\n",
       "      <td>17.496124</td>\n",
       "      <td>6.262115</td>\n",
       "    </tr>\n",
       "    <tr>\n",
       "      <th>6</th>\n",
       "      <td>15.568389</td>\n",
       "      <td>17.635148</td>\n",
       "    </tr>\n",
       "    <tr>\n",
       "      <th>7</th>\n",
       "      <td>15.568389</td>\n",
       "      <td>5.367914</td>\n",
       "    </tr>\n",
       "    <tr>\n",
       "      <th>8</th>\n",
       "      <td>26.281996</td>\n",
       "      <td>22.950069</td>\n",
       "    </tr>\n",
       "    <tr>\n",
       "      <th>9</th>\n",
       "      <td>24.042735</td>\n",
       "      <td>5.144364</td>\n",
       "    </tr>\n",
       "    <tr>\n",
       "      <th>10</th>\n",
       "      <td>18.329151</td>\n",
       "      <td>19.770423</td>\n",
       "    </tr>\n",
       "    <tr>\n",
       "      <th>11</th>\n",
       "      <td>18.329151</td>\n",
       "      <td>19.770423</td>\n",
       "    </tr>\n",
       "    <tr>\n",
       "      <th>12</th>\n",
       "      <td>116.000000</td>\n",
       "      <td>59.019944</td>\n",
       "    </tr>\n",
       "    <tr>\n",
       "      <th>13</th>\n",
       "      <td>45.000000</td>\n",
       "      <td>39.794633</td>\n",
       "    </tr>\n",
       "    <tr>\n",
       "      <th>14</th>\n",
       "      <td>2.000000</td>\n",
       "      <td>6.485665</td>\n",
       "    </tr>\n",
       "    <tr>\n",
       "      <th>15</th>\n",
       "      <td>26.281996</td>\n",
       "      <td>5.367914</td>\n",
       "    </tr>\n",
       "    <tr>\n",
       "      <th>16</th>\n",
       "      <td>10.228571</td>\n",
       "      <td>10.512935</td>\n",
       "    </tr>\n",
       "    <tr>\n",
       "      <th>17</th>\n",
       "      <td>24.000000</td>\n",
       "      <td>19.675122</td>\n",
       "    </tr>\n",
       "    <tr>\n",
       "      <th>18</th>\n",
       "      <td>26.281996</td>\n",
       "      <td>11.850868</td>\n",
       "    </tr>\n",
       "    <tr>\n",
       "      <th>19</th>\n",
       "      <td>8.000000</td>\n",
       "      <td>22.357724</td>\n",
       "    </tr>\n",
       "    <tr>\n",
       "      <th>20</th>\n",
       "      <td>26.281996</td>\n",
       "      <td>10.956667</td>\n",
       "    </tr>\n",
       "    <tr>\n",
       "      <th>21</th>\n",
       "      <td>10.228571</td>\n",
       "      <td>10.512935</td>\n",
       "    </tr>\n",
       "    <tr>\n",
       "      <th>22</th>\n",
       "      <td>3.000000</td>\n",
       "      <td>7.603415</td>\n",
       "    </tr>\n",
       "    <tr>\n",
       "      <th>23</th>\n",
       "      <td>2.000000</td>\n",
       "      <td>9.615367</td>\n",
       "    </tr>\n",
       "    <tr>\n",
       "      <th>24</th>\n",
       "      <td>31.256076</td>\n",
       "      <td>6.485665</td>\n",
       "    </tr>\n",
       "    <tr>\n",
       "      <th>25</th>\n",
       "      <td>16.543417</td>\n",
       "      <td>6.038565</td>\n",
       "    </tr>\n",
       "    <tr>\n",
       "      <th>26</th>\n",
       "      <td>4.000000</td>\n",
       "      <td>7.379865</td>\n",
       "    </tr>\n",
       "    <tr>\n",
       "      <th>27</th>\n",
       "      <td>4.000000</td>\n",
       "      <td>13.415719</td>\n",
       "    </tr>\n",
       "    <tr>\n",
       "      <th>28</th>\n",
       "      <td>2.000000</td>\n",
       "      <td>6.932765</td>\n",
       "    </tr>\n",
       "    <tr>\n",
       "      <th>29</th>\n",
       "      <td>26.281996</td>\n",
       "      <td>5.144364</td>\n",
       "    </tr>\n",
       "  </tbody>\n",
       "</table>\n",
       "</div>"
      ],
      "text/plain": [
       "        Actual  Predicted\n",
       "0    10.000000  20.792873\n",
       "1    18.329151  19.770423\n",
       "2     2.000000   6.485665\n",
       "3    47.000000  97.247015\n",
       "4    15.568389   5.144364\n",
       "5    17.496124   6.262115\n",
       "6    15.568389  17.635148\n",
       "7    15.568389   5.367914\n",
       "8    26.281996  22.950069\n",
       "9    24.042735   5.144364\n",
       "10   18.329151  19.770423\n",
       "11   18.329151  19.770423\n",
       "12  116.000000  59.019944\n",
       "13   45.000000  39.794633\n",
       "14    2.000000   6.485665\n",
       "15   26.281996   5.367914\n",
       "16   10.228571  10.512935\n",
       "17   24.000000  19.675122\n",
       "18   26.281996  11.850868\n",
       "19    8.000000  22.357724\n",
       "20   26.281996  10.956667\n",
       "21   10.228571  10.512935\n",
       "22    3.000000   7.603415\n",
       "23    2.000000   9.615367\n",
       "24   31.256076   6.485665\n",
       "25   16.543417   6.038565\n",
       "26    4.000000   7.379865\n",
       "27    4.000000  13.415719\n",
       "28    2.000000   6.932765\n",
       "29   26.281996   5.144364"
      ]
     },
     "execution_count": 264,
     "metadata": {},
     "output_type": "execute_result"
    }
   ],
   "source": [
    "data = pd.DataFrame({'Actual': y_test_2.flatten(), 'Predicted': y_predicted_2.flatten()})\n",
    "data.head(30)"
   ]
  },
  {
   "cell_type": "markdown",
   "id": "47a3200d",
   "metadata": {},
   "source": [
    "again predicted values are pretty far off of actual values in many cases. Still, I think this model is quite good to predict applies number by views "
   ]
  },
  {
   "cell_type": "code",
   "execution_count": null,
   "id": "3237758b",
   "metadata": {},
   "outputs": [],
   "source": []
  }
 ],
 "metadata": {
  "kernelspec": {
   "display_name": "Python 3 (ipykernel)",
   "language": "python",
   "name": "python3"
  },
  "language_info": {
   "codemirror_mode": {
    "name": "ipython",
    "version": 3
   },
   "file_extension": ".py",
   "mimetype": "text/x-python",
   "name": "python",
   "nbconvert_exporter": "python",
   "pygments_lexer": "ipython3",
   "version": "3.11.5"
  }
 },
 "nbformat": 4,
 "nbformat_minor": 5
}
